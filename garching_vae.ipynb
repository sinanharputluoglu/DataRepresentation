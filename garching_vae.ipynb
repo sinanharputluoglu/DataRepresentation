{
 "cells": [
  {
   "cell_type": "code",
   "execution_count": 1,
   "metadata": {
    "ExecuteTime": {
     "end_time": "2020-06-11T13:17:22.792484Z",
     "start_time": "2020-06-11T13:17:19.126259Z"
    }
   },
   "outputs": [],
   "source": [
    "import matplotlib.pyplot as plt\n",
    "import numpy as np\n",
    "import torch\n",
    "import torch.nn as nn\n",
    "import torch.nn.functional as F\n",
    "from matplotlib.patches import Rectangle\n",
    "from torchvision import datasets, transforms\n",
    "# These packages are required by the visualization utils\n",
    "import seaborn as sns  \n",
    "from sklearn.manifold import TSNE\n",
    "\n",
    "import vae_utils\n"
   ]
  },
  {
   "cell_type": "markdown",
   "metadata": {},
   "source": [
    "# Variational Autoencoder for MNIST and FireEvac\n",
    "\n",
    "\n"
   ]
  },
  {
   "cell_type": "markdown",
   "metadata": {},
   "source": [
    "## Load the dataset"
   ]
  },
  {
   "cell_type": "code",
   "execution_count": 2,
   "metadata": {
    "ExecuteTime": {
     "end_time": "2020-06-11T13:17:22.868020Z",
     "start_time": "2020-06-11T13:17:22.796687Z"
    }
   },
   "outputs": [],
   "source": [
    "mnist = False\n",
    "\n",
    "def npy_loader(path):\n",
    "    return torch.from_numpy(np.load(path))\n",
    "\n",
    "device = 'cpu'\n",
    "# device = 'cpu'  # uncomment this line to run the model on the CPU\n",
    "batch_size = 128\n",
    "if mnist:\n",
    "    dataset = datasets.MNIST \n",
    "    if device == 'cuda':\n",
    "        train_loader = torch.utils.data.DataLoader(\n",
    "            dataset('data', train=True, download=True, transform=transforms.ToTensor()),\n",
    "            batch_size=batch_size, shuffle=True, num_workers=1, pin_memory=True\n",
    "        )\n",
    "        test_loader = torch.utils.data.DataLoader(\n",
    "            dataset('data', train=False, download=True, transform=transforms.ToTensor()),\n",
    "            batch_size=1000, shuffle=True, num_workers=1, pin_memory=True\n",
    "        )\n",
    "    elif device == 'cpu':\n",
    "        train_loader = torch.utils.data.DataLoader(\n",
    "            dataset('data', train=True, download=True, transform=transforms.ToTensor()),\n",
    "            batch_size=batch_size, shuffle=True,\n",
    "        )\n",
    "        test_loader = torch.utils.data.DataLoader(\n",
    "            dataset('data', train=False, download=True, transform=transforms.ToTensor()),\n",
    "            batch_size=1000, shuffle=True,\n",
    "        )\n",
    "else:\n",
    "    tr = np.load(\"/Users/unstblecrsr/Desktop/Praktikum/exercise_4/tra/FireEvac_train_set.npy\")\n",
    "    tes = np.load(\"/Users/unstblecrsr/Desktop/Praktikum/exercise_4/tes/FireEvac_test_set.npy\")\n",
    "    tensor_tr = torch.from_numpy(tr) #/ 200 # transform to torch tensor\n",
    "    tensor_tes = torch.from_numpy(tes)# / 200\n",
    "     # create your datset\n",
    "    train_loader = torch.utils.data.DataLoader(\n",
    "        torch.utils.data.TensorDataset(tensor_tr),\n",
    "        batch_size=batch_size,\n",
    "        shuffle=True,)\n",
    "    test_loader = torch.utils.data.DataLoader(\n",
    "        torch.utils.data.TensorDataset(tensor_tes),\n",
    "        batch_size=600, \n",
    "        shuffle=True,)\n",
    "    "
   ]
  },
  {
   "cell_type": "code",
   "execution_count": 3,
   "metadata": {
    "ExecuteTime": {
     "end_time": "2020-06-11T13:17:26.854775Z",
     "start_time": "2020-06-11T13:17:22.870933Z"
    }
   },
   "outputs": [
    {
     "data": {
      "image/png": "[encoded data removed]",
      "text/plain": [
       "<Figure size 432x288 with 1 Axes>"
      ]
     },
     "metadata": {
      "needs_background": "light"
     },
     "output_type": "display_data"
    },
    {
     "name": "stdout",
     "output_type": "stream",
     "text": [
      "274\n"
     ]
    }
   ],
   "source": [
    "__x = []\n",
    "__y = []\n",
    "num_people = 0\n",
    "for i in range(len(train_loader.dataset)):\n",
    "    pos_x = train_loader.dataset[i][0][0].item()#*200\n",
    "    pos_y = train_loader.dataset[i][0][1].item()#*200\n",
    "    \n",
    "    __x.append(pos_x)\n",
    "    __y.append(pos_y)\n",
    "    if 130 < pos_x < 150 and 50 < pos_y < 70:\n",
    "        num_people += 1\n",
    "    \n",
    "    \n",
    "\n",
    "someX, someY = 130, 50\n",
    "currentAxis = plt.gca()\n",
    "currentAxis.add_patch(Rectangle((someX - .5, someY - .5), 20, 20, color=\"orange\", fill=False))\n",
    "plt.scatter(__x,__y)\n",
    "\n",
    "plt.savefig(\"train_data_viz.png\")\n",
    "plt.show()\n",
    "print(num_people)"
   ]
  },
  {
   "cell_type": "code",
   "execution_count": 4,
   "metadata": {
    "ExecuteTime": {
     "end_time": "2020-06-11T13:17:26.882842Z",
     "start_time": "2020-06-11T13:17:26.860000Z"
    }
   },
   "outputs": [],
   "source": [
    "class VAE(nn.Module):\n",
    "    def __init__(self, obs_dim, latent_dim, hidden_dim=100):\n",
    "        super().__init__()\n",
    "        self.latent_dim = latent_dim\n",
    "        # Trainable layers of the encoder\n",
    "        self.linear1 = nn.Linear(obs_dim, hidden_dim)\n",
    "        self.linear21 = nn.Linear(hidden_dim, latent_dim)\n",
    "        self.linear22 = nn.Linear(hidden_dim, latent_dim)\n",
    "        # Trainable layers of the decoder\n",
    "        self.linear3 = nn.Linear(latent_dim, hidden_dim)\n",
    "        self.linear_Extra = nn.Linear(hidden_dim, hidden_dim)\n",
    "        self.linear4 = nn.Linear(hidden_dim, obs_dim)\n",
    "    \n",
    "    def encoder(self, x):\n",
    "\n",
    "        l1 = F.relu(self.linear1(x))\n",
    "        mu = self.linear21(l1)\n",
    "        logsigma = self.linear22(l1)\n",
    "        \n",
    "        return mu, logsigma\n",
    "    \n",
    "    def sample_with_reparam(self, mu, logsigma):\n",
    "\n",
    "        sigma = torch.diag(torch.exp(logsigma) ** 2)\n",
    "        normal_distt = torch.empty(sigma.shape).normal_(0,1)\n",
    "        \n",
    "        return normal_distt * sigma + mu\n",
    "        \n",
    "    \n",
    "    def decoder(self, z):\n",
    "\n",
    "        l1 = F.relu(self.linear3(z))\n",
    "        #l_extra = F.relu(self.linear_Extra(l1))\n",
    "        theta = F.relu(self.linear4(l1))\n",
    "        return theta\n",
    "\n",
    "    \n",
    "    def kl_divergence(self, mu, logsigma):\n",
    "\n",
    "        sigma_squared = torch.exp(logsigma) ** 2\n",
    "        return 0.5*torch.sum(mu**2 - 1 - logsigma*2 + sigma_squared, dim=1)\n",
    "\n",
    "    \n",
    "    def elbo(self, x):\n",
    "\n",
    "        mu, logsigma = self.encoder(x)\n",
    "        z_prime = self.sample_with_reparam(mu, logsigma)\n",
    "        theta = self.decoder(z_prime)\n",
    "        c_e = (x - theta) ** 2\n",
    "        cross_entropy = torch.sum(c_e, dim=1)\n",
    "        return - cross_entropy - self.kl_divergence(mu, logsigma)\n",
    "\n",
    "        \n",
    "    def sample(self, num_samples):\n",
    "  \n",
    "        normal_distt = torch.empty(num_samples, latent_dim).normal_(0,1)\n",
    "        x = self.decoder(normal_distt)\n",
    "        \n",
    "        return x"
   ]
  },
  {
   "cell_type": "code",
   "execution_count": 13,
   "metadata": {
    "ExecuteTime": {
     "end_time": "2020-06-11T13:17:26.910269Z",
     "start_time": "2020-06-11T13:17:26.889282Z"
    }
   },
   "outputs": [],
   "source": [
    "obs_dim = 2  # FireEvac data has format: [x,y]\n",
    "latent_dim = 2  # Size of the latent variable z\n",
    "hidden_dim = 50  # Size of the hidden layer in the encoder / decoder\n",
    "\n",
    "\n",
    "vae = VAE(obs_dim, latent_dim, hidden_dim).to(device)\n",
    "opt = torch.optim.Adam(vae.parameters(), lr=1e-3)\n",
    "losses = []"
   ]
  },
  {
   "cell_type": "code",
   "execution_count": 34,
   "metadata": {
    "ExecuteTime": {
     "end_time": "2020-06-11T13:25:09.655918Z",
     "start_time": "2020-06-11T13:21:26.620461Z"
    },
    "scrolled": true
   },
   "outputs": [
    {
     "name": "stdout",
     "output_type": "stream",
     "text": [
      "Epoch 0\n",
      "  loss = 24.02\n",
      "Epoch 1\n",
      "  loss = 31.01\n",
      "Epoch 2\n",
      "  loss = 47.10\n",
      "Epoch 3\n",
      "  loss = 26.93\n",
      "Epoch 4\n",
      "  loss = 23.17\n",
      "Epoch 5\n",
      "  loss = 27.66\n",
      "Epoch 6\n",
      "  loss = 20.45\n",
      "Epoch 7\n",
      "  loss = 20.06\n",
      "Epoch 8\n",
      "  loss = 28.25\n",
      "Epoch 9\n",
      "  loss = 53.88\n",
      "Epoch 10\n",
      "  loss = 31.17\n",
      "Epoch 11\n",
      "  loss = 27.27\n",
      "Epoch 12\n",
      "  loss = 19.84\n",
      "Epoch 13\n",
      "  loss = 30.31\n",
      "Epoch 14\n",
      "  loss = 23.70\n",
      "Epoch 15\n",
      "  loss = 177.30\n",
      "Epoch 16\n",
      "  loss = 22.93\n",
      "Epoch 17\n",
      "  loss = 22.57\n",
      "Epoch 18\n",
      "  loss = 30.81\n",
      "Epoch 19\n",
      "  loss = 24.68\n",
      "Epoch 20\n",
      "  loss = 18.45\n",
      "Epoch 21\n",
      "  loss = 25.50\n",
      "Epoch 22\n",
      "  loss = 20.69\n",
      "Epoch 23\n",
      "  loss = 26.98\n",
      "Epoch 24\n",
      "  loss = 24.86\n",
      "Epoch 25\n",
      "  loss = 20.84\n",
      "Epoch 26\n",
      "  loss = 33.28\n",
      "Epoch 27\n",
      "  loss = 26.33\n",
      "Epoch 28\n",
      "  loss = 19.27\n",
      "Epoch 29\n",
      "  loss = 37.45\n",
      "Epoch 30\n",
      "  loss = 37.12\n",
      "Epoch 31\n",
      "  loss = 28.89\n",
      "Epoch 32\n",
      "  loss = 27.47\n",
      "Epoch 33\n",
      "  loss = 39.25\n",
      "Epoch 34\n",
      "  loss = 61.59\n",
      "Epoch 35\n",
      "  loss = 24.27\n",
      "Epoch 36\n",
      "  loss = 23.21\n",
      "Epoch 37\n",
      "  loss = 22.15\n",
      "Epoch 38\n",
      "  loss = 30.51\n",
      "Epoch 39\n",
      "  loss = 45.20\n",
      "Epoch 40\n",
      "  loss = 19.62\n",
      "Epoch 41\n",
      "  loss = 22.44\n",
      "Epoch 42\n",
      "  loss = 93.94\n",
      "Epoch 43\n",
      "  loss = 25.96\n",
      "Epoch 44\n",
      "  loss = 19.34\n",
      "Epoch 45\n",
      "  loss = 26.70\n",
      "Epoch 46\n",
      "  loss = 27.02\n",
      "Epoch 47\n",
      "  loss = 22.24\n",
      "Epoch 48\n",
      "  loss = 19.40\n",
      "Epoch 49\n",
      "  loss = 21.95\n"
     ]
    }
   ],
   "source": [
    "max_epochs = 50\n",
    "display_step = 100\n",
    "stopper_counter = 0\n",
    "for epoch in range(max_epochs):\n",
    "    print(f'Epoch {epoch}')\n",
    "    for ix, batch in enumerate(train_loader):\n",
    "        #print(batch[0].float())\n",
    "        #print(batch[0].shape)\n",
    "        x = batch[0].float() #print(batch)#x = batch[0][0]\n",
    "        \n",
    "        #x = x.view(x.shape[0], obs_dim).to(device)  # we flatten the image into 1D array\n",
    "        opt.zero_grad()\n",
    "        # We want to maximize the ELBO, so we minimize the negative ELBO\n",
    "        loss = -vae.elbo(x).mean(-1)\n",
    "        loss.backward()\n",
    "        opt.step()\n",
    "        #losses.append(loss.item())\n",
    "        if ix % display_step == 0:\n",
    "            print(f'  loss = {loss.item():.2f}')\n",
    "    if loss.item() < 20.0:\n",
    "        stopper_counter += 1\n",
    "    else: \n",
    "        stopper_counter = 0\n",
    "    losses.append(loss.item())\n",
    "    if stopper_counter > 4:\n",
    "        break"
   ]
  },
  {
   "cell_type": "code",
   "execution_count": 35,
   "metadata": {},
   "outputs": [
    {
     "data": {
      "image/png": "[encoded data removed]",
      "text/plain": [
       "<Figure size 432x288 with 1 Axes>"
      ]
     },
     "metadata": {
      "needs_background": "light"
     },
     "output_type": "display_data"
    }
   ],
   "source": [
    "plt.plot(losses)\n",
    "plt.ylabel('Losses')\n",
    "plt.xlabel('Epoch')\n",
    "plt.title('Losses vs Epoch')\n",
    "plt.savefig(\"GAR_loss_ep_\" + str(max_epochs)  + \"latdim_\" + str(latent_dim) + \".png\")"
   ]
  },
  {
   "cell_type": "code",
   "execution_count": 36,
   "metadata": {},
   "outputs": [
    {
     "data": {
      "image/png": "[encoded data removed]",
      "text/plain": [
       "<Figure size 432x288 with 1 Axes>"
      ]
     },
     "metadata": {
      "needs_background": "light"
     },
     "output_type": "display_data"
    },
    {
     "name": "stdout",
     "output_type": "stream",
     "text": [
      "150\n"
     ]
    }
   ],
   "source": [
    "\n",
    "# num_rows=2\n",
    "# num_cols=5\n",
    "# sns.set_style('white')\n",
    "# num_total = num_rows * num_cols\n",
    "# fig, axes = plt.subplots(num_rows, num_cols, figsize=(1.5 * num_cols, 2 * num_rows))\n",
    "# for i in range(num_total):\n",
    "#     ax = axes[i // num_cols, i % num_cols]\n",
    "#     idx = np.random.randint(len(test_loader.dataset))\n",
    "#     x = test_loader.dataset[idx][0]\n",
    "#     y = test_loader.dataset[idx][1]\n",
    "#     x = x.view(x.shape[0], obs_dim).to(device)\n",
    "#     mu, logsigma = vae.encoder(x)\n",
    "#     z_prime = vae.sample_with_reparam(mu, logsigma)\n",
    "#     theta = vae.decoder(z_prime).view(-1, 28, 28).detach().cpu().numpy()[0]\n",
    "#     ax.imshow(theta, cmap='gray', vmin=0.0, vmax=1.0)\n",
    "#     ax.set_title(f'Class: {y}')\n",
    "# plt.tight_layout()\n",
    "# plt.savefig(\"GAR_rec_ep_\" + str(max_epochs) + \"latdim_\" + str(latent_dim) + \".png\")\n",
    "# plt.show()\n",
    "\n",
    "\n",
    "__x = []\n",
    "__y = []\n",
    "num_people = 0\n",
    "num_ssamples = 5000\n",
    "primes = []\n",
    "\n",
    "for i in range(num_ssamples):\n",
    "    idx = np.random.randint(len(test_loader.dataset))\n",
    "    x = test_loader.dataset[idx][0].float()\n",
    "    #print(x)\n",
    "    mu, logsigma = vae.encoder(x)\n",
    "    z_prime = vae.sample_with_reparam(mu, logsigma)\n",
    "    primes.append(z_prime)\n",
    "    theta = vae.decoder(z_prime)\n",
    "    #print(theta[0][0].item())\n",
    "    pos_x = theta[0][0].item()#*200\n",
    "    pos_y = theta[0][1].item()#*200\n",
    "    __x.append(pos_x)\n",
    "    __y.append(pos_y)\n",
    "    if 130 < pos_x < 150 and 50 < pos_y < 70:\n",
    "        num_people += 1\n",
    "    \n",
    "    \n",
    "\n",
    "someX, someY = 130, 50\n",
    "currentAxis = plt.gca()\n",
    "currentAxis.add_patch(Rectangle((someX - .5, someY - .5), 20, 20, color=\"orange\", fill=False))\n",
    "plt.scatter(__x,__y)\n",
    "\n",
    "plt.savefig(\"GAR_rec_ep_\" + str(max_epochs) + \"latdim_\" + str(latent_dim) + \"num_samp_\" + str(num_ssamples) + \"inbox_\"+ str(num_people) +\".png\")\n",
    "plt.show()\n",
    "print(num_people)"
   ]
  },
  {
   "cell_type": "markdown",
   "metadata": {},
   "source": [
    "### Visualize samples generated by the model"
   ]
  },
  {
   "cell_type": "code",
   "execution_count": null,
   "metadata": {},
   "outputs": [],
   "source": []
  },
  {
   "cell_type": "code",
   "execution_count": null,
   "metadata": {},
   "outputs": [],
   "source": []
  },
  {
   "cell_type": "code",
   "execution_count": 37,
   "metadata": {
    "ExecuteTime": {
     "end_time": "2020-06-11T13:28:39.625759Z",
     "start_time": "2020-06-11T13:28:36.465975Z"
    }
   },
   "outputs": [
    {
     "data": {
      "image/png": "[encoded data removed]",
      "text/plain": [
       "<Figure size 432x288 with 1 Axes>"
      ]
     },
     "metadata": {
      "needs_background": "light"
     },
     "output_type": "display_data"
    },
    {
     "name": "stdout",
     "output_type": "stream",
     "text": [
      "0\n"
     ]
    }
   ],
   "source": [
    "# samples = vae.sample(10).view(-1, 28, 28).detach().cpu().numpy()\n",
    "# sns.set_style('white')\n",
    "# num_total = num_rows * num_cols\n",
    "# fig, axes = plt.subplots(num_rows, num_cols, figsize=(1.5 * num_cols, 2 * num_rows))\n",
    "# for i in range(num_total):\n",
    "#     ax = axes[i // num_cols, i % num_cols]\n",
    "#     ax.imshow(samples[i], cmap='gray', vmin=0.0, vmax=1.0)\n",
    "#     ax.set_title(f'Sample #{i}')\n",
    "# plt.tight_layout()\n",
    "# plt.savefig(\"GAR_gen_ep_\" + str(max_epochs)+ \"latdim_\" + str(latent_dim) + \".png\")\n",
    "# plt.show()\n",
    "\n",
    "__x = []\n",
    "__y = []\n",
    "num_people = 0\n",
    "num_ssamples = 1000\n",
    "normal_distt = torch.empty(num_ssamples, latent_dim).normal_(0,1)\n",
    "samples = vae.decoder(normal_distt)\n",
    "for i in samples:\n",
    "    #print(theta[0][0].item())\n",
    "    pos_x = i[0].item()#*200\n",
    "    pos_y = i[1].item()#*200\n",
    "    __x.append(pos_x)\n",
    "    __y.append(pos_y)\n",
    "    if 130 < pos_x < 150 and 50 < pos_y < 70:\n",
    "        num_people += 1\n",
    "    \n",
    "    \n",
    "\n",
    "someX, someY = 130, 50\n",
    "currentAxis = plt.gca()\n",
    "currentAxis.add_patch(Rectangle((someX - .5, someY - .5), 20, 20, color=\"orange\", fill=False))\n",
    "plt.scatter(__x,__y)\n",
    "\n",
    "plt.savefig(\"GAR_gen_ep_\" + str(max_epochs) + \"latdim_\" + str(latent_dim) + \"num_samp_\" + str(num_ssamples) + \"inbox_\"+ str(num_people) +\".png\")\n",
    "plt.show()\n",
    "print(num_people)"
   ]
  },
  {
   "cell_type": "markdown",
   "metadata": {},
   "source": [
    "While the images here look somewhat similar to the training data and it's possible to discern the shapes of different digits, the sampels are not visually coherent.\n",
    "You might need to run the above cell several times to obtain images that look decent.\n",
    "\n",
    "It's possible to obtain images that look a lot better by using more \n",
    "powerful encoders & decoders (see `nn.Conv2d` and `nn.ConvTranspose2d`).\n",
    "However, training such models is slower, unless you have a good GPU."
   ]
  },
  {
   "cell_type": "markdown",
   "metadata": {},
   "source": [
    "### Visualize the embeddings produced by the model\n",
    "Here, we visualize the embeddings learned by the encoder using the following procedure\n",
    "1. Take a mini-batch `x` (shape `[batch_size, obs_dim]`)\n",
    "2. Pass `x` through the encoder \n",
    "```\n",
    "mu, logsigma = vae.encoder(x)\n",
    "```\n",
    "3. Visualize the mean `mu` for each sample using t-SNE."
   ]
  },
  {
   "cell_type": "code",
   "execution_count": 30,
   "metadata": {
    "ExecuteTime": {
     "end_time": "2020-06-11T13:29:09.360649Z",
     "start_time": "2020-06-11T13:29:00.118784Z"
    }
   },
   "outputs": [
    {
     "ename": "ValueError",
     "evalue": "not enough values to unpack (expected 2, got 1)",
     "output_type": "error",
     "traceback": [
      "\u001b[0;31m---------------------------------------------------------------------------\u001b[0m",
      "\u001b[0;31mValueError\u001b[0m                                Traceback (most recent call last)",
      "\u001b[0;32m<ipython-input-30-047f42126929>\u001b[0m in \u001b[0;36m<module>\u001b[0;34m\u001b[0m\n\u001b[0;32m----> 1\u001b[0;31m \u001b[0mx\u001b[0m\u001b[0;34m,\u001b[0m \u001b[0my\u001b[0m \u001b[0;34m=\u001b[0m \u001b[0mnext\u001b[0m\u001b[0;34m(\u001b[0m\u001b[0miter\u001b[0m\u001b[0;34m(\u001b[0m\u001b[0mtest_loader\u001b[0m\u001b[0;34m)\u001b[0m\u001b[0;34m)\u001b[0m\u001b[0;34m\u001b[0m\u001b[0;34m\u001b[0m\u001b[0m\n\u001b[0m\u001b[1;32m      2\u001b[0m \u001b[0mx\u001b[0m \u001b[0;34m=\u001b[0m \u001b[0mx\u001b[0m\u001b[0;34m.\u001b[0m\u001b[0mview\u001b[0m\u001b[0;34m(\u001b[0m\u001b[0mx\u001b[0m\u001b[0;34m.\u001b[0m\u001b[0mshape\u001b[0m\u001b[0;34m[\u001b[0m\u001b[0;36m0\u001b[0m\u001b[0;34m]\u001b[0m\u001b[0;34m,\u001b[0m \u001b[0mobs_dim\u001b[0m\u001b[0;34m)\u001b[0m\u001b[0;34m.\u001b[0m\u001b[0mto\u001b[0m\u001b[0;34m(\u001b[0m\u001b[0mdevice\u001b[0m\u001b[0;34m)\u001b[0m\u001b[0;34m\u001b[0m\u001b[0;34m\u001b[0m\u001b[0m\n\u001b[1;32m      3\u001b[0m \u001b[0mplt\u001b[0m\u001b[0;34m.\u001b[0m\u001b[0mfigure\u001b[0m\u001b[0;34m(\u001b[0m\u001b[0mfigsize\u001b[0m\u001b[0;34m=\u001b[0m\u001b[0;34m[\u001b[0m\u001b[0;36m10\u001b[0m\u001b[0;34m,\u001b[0m \u001b[0;36m7\u001b[0m\u001b[0;34m]\u001b[0m\u001b[0;34m)\u001b[0m\u001b[0;34m\u001b[0m\u001b[0;34m\u001b[0m\u001b[0m\n\u001b[1;32m      4\u001b[0m \u001b[0msns\u001b[0m\u001b[0;34m.\u001b[0m\u001b[0mset_style\u001b[0m\u001b[0;34m(\u001b[0m\u001b[0;34m'whitegrid'\u001b[0m\u001b[0;34m)\u001b[0m\u001b[0;34m\u001b[0m\u001b[0;34m\u001b[0m\u001b[0m\n\u001b[1;32m      5\u001b[0m \u001b[0mtsne\u001b[0m \u001b[0;34m=\u001b[0m \u001b[0mTSNE\u001b[0m\u001b[0;34m(\u001b[0m\u001b[0minit\u001b[0m\u001b[0;34m=\u001b[0m\u001b[0;34m'pca'\u001b[0m\u001b[0;34m)\u001b[0m\u001b[0;34m\u001b[0m\u001b[0;34m\u001b[0m\u001b[0m\n",
      "\u001b[0;31mValueError\u001b[0m: not enough values to unpack (expected 2, got 1)"
     ]
    }
   ],
   "source": []
  },
  {
   "cell_type": "markdown",
   "metadata": {},
   "source": [
    "As we can see, the encoder learned to assign similar means to the images that belong to the same class. That means, if two samples $x_i$ and $x_j$ belong to the same class, the means $\\mu_i$ and $\\mu_j$ of their variational distributions $q_i(z_i)$ and $q_j(z_j)$ are nearby, so $z_i$ and $z_j$ will likely be close as well."
   ]
  },
  {
   "cell_type": "code",
   "execution_count": null,
   "metadata": {},
   "outputs": [],
   "source": []
  }
 ],
 "metadata": {
  "kernelspec": {
   "display_name": "Python 3",
   "language": "python",
   "name": "python3"
  },
  "language_info": {
   "codemirror_mode": {
    "name": "ipython",
    "version": 3
   },
   "file_extension": ".py",
   "mimetype": "text/x-python",
   "name": "python",
   "nbconvert_exporter": "python",
   "pygments_lexer": "ipython3",
   "version": "3.8.2"
  }
 },
 "nbformat": 4,
 "nbformat_minor": 4
}
